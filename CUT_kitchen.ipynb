{
  "cells": [
    {
      "cell_type": "markdown",
      "metadata": {
        "id": "TVR4bEt9Ptel"
      },
      "source": [
        "# CUT: Semiotics of the Kitchen\n",
        "\n",
        "This colab notebook is adapated from the Derrick Schultz's notebook. The goal of this project is to regenerate an input video frame by frame in a new style using the CUT model.\n",
        "\n",
        "\n",
        "Original Colab by Derrick Schultz:\n",
        "\n",
        "[Notebook](https://colab.research.google.com/github/dvschultz/Make-ML-Art-with-Google-Colab/blob/master/CUT_inference.ipynb)\n",
        "\n",
        "CUT sources:\n",
        "\n",
        "[GitHub](https://github.com/taesungp/contrastive-unpaired-translation) | [Website](http://taesung.me/ContrastiveUnpairedTranslation/)"
      ]
    },
    {
      "cell_type": "markdown",
      "metadata": {
        "id": "5BpYMb9T5D-E"
      },
      "source": [
        "##Set-up"
      ]
    },
    {
      "cell_type": "markdown",
      "metadata": {
        "id": "fSqP805uTosF"
      },
      "source": [
        "Set up Colab"
      ]
    },
    {
      "cell_type": "code",
      "execution_count": null,
      "metadata": {
        "colab": {
          "base_uri": "https://localhost:8080/"
        },
        "id": "83mmScDWnsaF",
        "outputId": "f5576660-042b-44d2-c189-c8ea33da85e5"
      },
      "outputs": [
        {
          "output_type": "stream",
          "name": "stdout",
          "text": [
            "Mounted at /content/drive\n"
          ]
        }
      ],
      "source": [
        "# mount google drive\n",
        "from google.colab import drive\n",
        "drive.mount('/content/drive', force_remount=True)"
      ]
    },
    {
      "cell_type": "code",
      "execution_count": null,
      "metadata": {
        "id": "Fri-BD_LaZt5"
      },
      "outputs": [],
      "source": [
        "gpu_info = !nvidia-smi\n",
        "gpu_info = '\\n'.join(gpu_info)\n",
        "if gpu_info.find('failed') >= 0:\n",
        "  print('Not connected to a GPU')\n",
        "else:\n",
        "  print(gpu_info)"
      ]
    },
    {
      "cell_type": "code",
      "execution_count": null,
      "metadata": {
        "id": "aThCVyiab6G6"
      },
      "outputs": [],
      "source": [
        "from psutil import virtual_memory\n",
        "ram_gb = virtual_memory().total / 1e9\n",
        "print('Your runtime has {:.1f} gigabytes of available RAM\\n'.format(ram_gb))\n",
        "\n",
        "if ram_gb < 20:\n",
        "  print('Not using a high-RAM runtime')\n",
        "else:\n",
        "  print('You are using a high-RAM runtime!')"
      ]
    },
    {
      "cell_type": "markdown",
      "metadata": {
        "id": "iMikQ4S2TsJa"
      },
      "source": [
        "Downloading the CUT model"
      ]
    },
    {
      "cell_type": "code",
      "execution_count": null,
      "metadata": {
        "colab": {
          "base_uri": "https://localhost:8080/"
        },
        "id": "mPzgqOZ9oUGi",
        "outputId": "f073da99-1639-414e-a37d-e45e1f1a8d7b"
      },
      "outputs": [
        {
          "output_type": "stream",
          "name": "stdout",
          "text": [
            "/content/drive/MyDrive/CCI_modular/TERM_03\n"
          ]
        }
      ],
      "source": [
        "# navigate to the directory in which to download the model\n",
        "%cd /content/drive/MyDrive/CCI_modular/TERM_03/"
      ]
    },
    {
      "cell_type": "code",
      "execution_count": null,
      "metadata": {
        "id": "OHt7jlAPKw2l"
      },
      "outputs": [],
      "source": [
        "# clone the CUT github repo\n",
        "!git clone https://github.com/taesungp/contrastive-unpaired-translation CUT"
      ]
    },
    {
      "cell_type": "code",
      "execution_count": null,
      "metadata": {
        "id": "fsTsA1mzFRQi"
      },
      "outputs": [],
      "source": [
        "# install libraries\n",
        "!pip install dominate visdom GPUtil"
      ]
    },
    {
      "cell_type": "markdown",
      "metadata": {
        "id": "n1tdZoGaMOGf"
      },
      "source": [
        "## Import custom dataset\n",
        "\n",
        "The dataset is a zipped folder in Google Drive with images frames of Rosler's \"Semiotics of the Kitchen\" and scrapped YouTube videos. The files are organized into training and test sets (trainA, trainB, testA, and testB)."
      ]
    },
    {
      "cell_type": "code",
      "execution_count": null,
      "metadata": {
        "colab": {
          "base_uri": "https://localhost:8080/"
        },
        "id": "DH7FXf0_oh0o",
        "outputId": "583a2313-5ec6-4f1f-db56-83cfeb51b5b6"
      },
      "outputs": [
        {
          "name": "stdout",
          "output_type": "stream",
          "text": [
            "/content/drive/MyDrive/CCI_modular/TERM_03\n",
            "Archive:  kitchen_02.zip\n"
          ]
        }
      ],
      "source": [
        "# unzip the custom dataset into ./datasets\n",
        "# NOTE: this takes awhile!\n",
        "%cd /content/drive/MyDrive/CCI_modular/TERM_03/\n",
        "!unzip kitchen_02.zip -d /content/drive/MyDrive/CCI_modular/TERM_03/CUT/datasets"
      ]
    },
    {
      "cell_type": "markdown",
      "metadata": {
        "id": "IriT_YgSdQ-z"
      },
      "source": [
        "## Train the model\n"
      ]
    },
    {
      "cell_type": "code",
      "execution_count": null,
      "metadata": {
        "colab": {
          "base_uri": "https://localhost:8080/"
        },
        "id": "GNfHI7o1pbTl",
        "outputId": "975e52ae-3989-49b6-f74c-eaa4010d8ff0"
      },
      "outputs": [
        {
          "output_type": "stream",
          "name": "stdout",
          "text": [
            "/content/drive/MyDrive/CCI_modular/TERM_03/CUT\n"
          ]
        }
      ],
      "source": [
        "# navigate back to the CUT folder\n",
        "%cd /content/drive/MyDrive/CCI_modular/TERM_03/CUT"
      ]
    },
    {
      "cell_type": "code",
      "execution_count": null,
      "metadata": {
        "id": "oycbT_1odWFf"
      },
      "outputs": [],
      "source": [
        "# set up training parameters\n",
        "dataset_path = './datasets/kitchen_02'\n",
        "project_name = 'kitchen_02'\n",
        "load_size = 256 # input images are 256*256\n",
        "crop_size = 256"
      ]
    },
    {
      "cell_type": "code",
      "execution_count": null,
      "metadata": {
        "id": "Aa_XrrrmddF7"
      },
      "outputs": [],
      "source": [
        "# initial training\n",
        "!python train.py --dataroot $dataset_path --name $project_name --CUT_mode CUT --load_size $load_size --crop_size $crop_size --display_id 0"
      ]
    },
    {
      "cell_type": "markdown",
      "metadata": {
        "id": "x2-T4qpKVjKm"
      },
      "source": [
        "Run the cell below to continue training the model from the last saved epoch.\n",
        "\n",
        "*   `--continue_train`: continue training the model\n",
        "\n",
        "*Note that the epochs start from 1 instead of the count of the last epoch from the previous training session.*"
      ]
    },
    {
      "cell_type": "code",
      "execution_count": null,
      "metadata": {
        "id": "xcwPKu6-6REJ"
      },
      "outputs": [],
      "source": [
        "#continue training\n",
        "!python train.py --dataroot $dataset_path --name $project_name --CUT_mode CUT --load_size $load_size --crop_size $crop_size --display_id 0 --continue_train"
      ]
    },
    {
      "cell_type": "markdown",
      "metadata": {
        "id": "4RgMnCv1U3qX"
      },
      "source": [
        "Let's have a look at the checkpoints"
      ]
    },
    {
      "cell_type": "code",
      "execution_count": null,
      "metadata": {
        "colab": {
          "base_uri": "https://localhost:8080/"
        },
        "id": "d86nrzqbDZTs",
        "outputId": "7a26e51c-beee-4a10-8508-b582515f7ca0"
      },
      "outputs": [
        {
          "name": "stdout",
          "output_type": "stream",
          "text": [
            "10_net_D.pth  15_net_G.pth  25_net_F.pth  latest_net_D.pth  train_opt.txt\n",
            "10_net_F.pth  20_net_D.pth  25_net_G.pth  latest_net_F.pth  web\n",
            "10_net_G.pth  20_net_F.pth  5_net_D.pth   latest_net_G.pth\n",
            "15_net_D.pth  20_net_G.pth  5_net_F.pth   loss_log.txt\n",
            "15_net_F.pth  25_net_D.pth  5_net_G.pth   test_opt.txt\n"
          ]
        }
      ],
      "source": [
        "# list the checkpoints\n",
        "!ls ./checkpoints/kitchen_02/"
      ]
    },
    {
      "cell_type": "code",
      "execution_count": null,
      "metadata": {
        "colab": {
          "base_uri": "https://localhost:8080/",
          "height": 17
        },
        "id": "7I8v8p6qa8bN",
        "outputId": "290a8ad5-c605-4210-8ec5-bf737435bacc"
      },
      "outputs": [
        {
          "data": {
            "application/javascript": [
              "\n",
              "    async function download(id, filename, size) {\n",
              "      if (!google.colab.kernel.accessAllowed) {\n",
              "        return;\n",
              "      }\n",
              "      const div = document.createElement('div');\n",
              "      const label = document.createElement('label');\n",
              "      label.textContent = `Downloading \"${filename}\": `;\n",
              "      div.appendChild(label);\n",
              "      const progress = document.createElement('progress');\n",
              "      progress.max = size;\n",
              "      div.appendChild(progress);\n",
              "      document.body.appendChild(div);\n",
              "\n",
              "      const buffers = [];\n",
              "      let downloaded = 0;\n",
              "\n",
              "      const channel = await google.colab.kernel.comms.open(id);\n",
              "      // Send a message to notify the kernel that we're ready.\n",
              "      channel.send({})\n",
              "\n",
              "      for await (const message of channel.messages) {\n",
              "        // Send a message to notify the kernel that we're ready.\n",
              "        channel.send({})\n",
              "        if (message.buffers) {\n",
              "          for (const buffer of message.buffers) {\n",
              "            buffers.push(buffer);\n",
              "            downloaded += buffer.byteLength;\n",
              "            progress.value = downloaded;\n",
              "          }\n",
              "        }\n",
              "      }\n",
              "      const blob = new Blob(buffers, {type: 'application/binary'});\n",
              "      const a = document.createElement('a');\n",
              "      a.href = window.URL.createObjectURL(blob);\n",
              "      a.download = filename;\n",
              "      div.appendChild(a);\n",
              "      a.click();\n",
              "      div.remove();\n",
              "    }\n",
              "  "
            ],
            "text/plain": [
              "<IPython.core.display.Javascript object>"
            ]
          },
          "metadata": {},
          "output_type": "display_data"
        },
        {
          "data": {
            "application/javascript": [
              "download(\"download_40b42e55-5ccf-4d62-a192-56b6d465fe9b\", \"latest_net_F.pth\", 2247959)"
            ],
            "text/plain": [
              "<IPython.core.display.Javascript object>"
            ]
          },
          "metadata": {},
          "output_type": "display_data"
        }
      ],
      "source": [
        "# from google.colab import files\n",
        "# files.download('./checkpoints/kitchen_CUT/latest_net_F.pth')"
      ]
    },
    {
      "cell_type": "markdown",
      "metadata": {
        "id": "AbBSlniqPEiK"
      },
      "source": [
        "##Test the model\n",
        "\n",
        "\n",
        "\n",
        "*   `--num_test`: how many test images to produce\n",
        "*   `--direction`: `AtoB` or `BtoA`"
      ]
    },
    {
      "cell_type": "code",
      "execution_count": null,
      "metadata": {
        "id": "7vgnZhxLOEHf"
      },
      "outputs": [],
      "source": [
        "!python test.py --dataroot ./datasets/kitchen/ --name kitchen_CUT --CUT_mode CUT --num_test 50 --direction AtoB"
      ]
    },
    {
      "cell_type": "markdown",
      "metadata": {
        "id": "g_Dkt7fmQZIf"
      },
      "source": [
        "##Regenerating the input video\n",
        "\n",
        "I created a dataset with all 4000+ frames from the input video as \"testA\" and all the 2000+ frames from scrapped YouTube videos as \"testB\". Although not used during image generation, I also had to include \"trainA\" and \"trainB\" folders with 5 images each."
      ]
    },
    {
      "cell_type": "markdown",
      "metadata": {
        "id": "U-Shv4zMqWKH"
      },
      "source": [
        "Unzip folders with video frames to create dataset"
      ]
    },
    {
      "cell_type": "code",
      "execution_count": null,
      "metadata": {
        "id": "Jwt-iYIgQH36"
      },
      "outputs": [],
      "source": [
        "# get to the directory where the .zip folders are stored\n",
        "%cd /content/drive/MyDrive/CCI_modular/TERM_03/kitchen_frames/\n",
        "\n",
        "# unzip input video frames & download into specific directory\n",
        "# the file be renamed to \"testA\"\n",
        "!unzip kitchen_testA.zip -d /content/drive/MyDrive/CCI_modular/TERM_03/kitchen_frames/kitchen_v3/\n",
        "\n",
        "# unzip YouTube video frames & download into specific directory\n",
        "# the file will be renamed to \"testB\"\n",
        "# !unzip youtube_testB.zip -d /content/drive/MyDrive/CCI_modular/TERM_03/kitchen_frames/kitchen_v3/"
      ]
    },
    {
      "cell_type": "code",
      "execution_count": null,
      "metadata": {
        "id": "eaY88IFxZlNW"
      },
      "outputs": [],
      "source": [
        "# CREDIT: the following code was referenced from chatGPT\n",
        "import os\n",
        "\n",
        "# define input and output directories\n",
        "input_dir = '/content/drive/MyDrive/CCI_modular/TERM_03/kitchen_frames/kitchen_v3'\n",
        "output_dir = '/content/drive/MyDrive/CCI_modular/TERM_03/kitchen_frames/kitchen_v3'\n",
        "\n",
        "# create the output directory if it doesn't exist\n",
        "os.makedirs(output_dir, exist_ok=True)\n",
        "\n",
        "# get a sorted list of files in the input directory\n",
        "files = sorted(os.listdir(input_dir))"
      ]
    },
    {
      "cell_type": "markdown",
      "metadata": {
        "id": "wpmoPnCAXzPM"
      },
      "source": [
        "Perform some checks before generating frames"
      ]
    },
    {
      "cell_type": "code",
      "execution_count": null,
      "metadata": {
        "id": "I5b3JdEEZrWZ"
      },
      "outputs": [],
      "source": [
        "# check the that testA looks ok\n",
        "!ls /content/drive/MyDrive/CCI_modular/TERM_03/kitchen_frames/kitchen_v3/testA"
      ]
    },
    {
      "cell_type": "code",
      "execution_count": null,
      "metadata": {
        "id": "MOh_Yo_WqnoI"
      },
      "outputs": [],
      "source": [
        "# check the that testB looks ok\n",
        "!ls /content/drive/MyDrive/CCI_modular/TERM_03/kitchen_frames/kitchen_v3/testB"
      ]
    },
    {
      "cell_type": "markdown",
      "metadata": {
        "id": "iILAHXJoX6aT"
      },
      "source": [
        "Generate frames by calling *test.py*\n",
        "\n",
        "*   `--data_root`: set as `input_dir`\n",
        "*   `--results_dir`: set as `output_dir`\n",
        "*   `--num_test`: set to 4417, the number of files in testA\n",
        "*   `--serial_batches`: `True`, intake the files in order"
      ]
    },
    {
      "cell_type": "code",
      "execution_count": null,
      "metadata": {
        "id": "yQRZVpqPgN4e"
      },
      "outputs": [],
      "source": [
        "# cd back to the CUT folder\n",
        "%cd /content/drive/MyDrive/CCI_modular/TERM_03/CUT\n",
        "\n",
        "# generate images\n",
        "!python test.py --dataroot {input_dir} --results_dir {output_dir} --name kitchen_02 --CUT_mode CUT --num_test 4417 --direction AtoB --serial_batches"
      ]
    },
    {
      "cell_type": "markdown",
      "metadata": {
        "id": "JO_9qeQYX973"
      },
      "source": [
        "Download the generated frames"
      ]
    },
    {
      "cell_type": "code",
      "execution_count": null,
      "metadata": {
        "id": "6iKXJDGkrPKm"
      },
      "outputs": [],
      "source": [
        "# zip the file\n",
        "!zip -r '/content/drive/MyDrive/CCI_modular/TERM_03/kitchen_frames/kitchen_v3/kitchen_02/test_latest/images/fake_B.zip' '/content/drive/MyDrive/CCI_modular/TERM_03/kitchen_frames/kitchen_v3/kitchen_02/test_latest/images/fake_B'"
      ]
    },
    {
      "cell_type": "code",
      "execution_count": null,
      "metadata": {
        "id": "GEorGy9NKlsb",
        "colab": {
          "base_uri": "https://localhost:8080/",
          "height": 34
        },
        "outputId": "62b64749-587b-4759-f336-906057ba1cb0"
      },
      "outputs": [
        {
          "output_type": "display_data",
          "data": {
            "text/plain": [
              "<IPython.core.display.Javascript object>"
            ],
            "application/javascript": [
              "\n",
              "    async function download(id, filename, size) {\n",
              "      if (!google.colab.kernel.accessAllowed) {\n",
              "        return;\n",
              "      }\n",
              "      const div = document.createElement('div');\n",
              "      const label = document.createElement('label');\n",
              "      label.textContent = `Downloading \"${filename}\": `;\n",
              "      div.appendChild(label);\n",
              "      const progress = document.createElement('progress');\n",
              "      progress.max = size;\n",
              "      div.appendChild(progress);\n",
              "      document.body.appendChild(div);\n",
              "\n",
              "      const buffers = [];\n",
              "      let downloaded = 0;\n",
              "\n",
              "      const channel = await google.colab.kernel.comms.open(id);\n",
              "      // Send a message to notify the kernel that we're ready.\n",
              "      channel.send({})\n",
              "\n",
              "      for await (const message of channel.messages) {\n",
              "        // Send a message to notify the kernel that we're ready.\n",
              "        channel.send({})\n",
              "        if (message.buffers) {\n",
              "          for (const buffer of message.buffers) {\n",
              "            buffers.push(buffer);\n",
              "            downloaded += buffer.byteLength;\n",
              "            progress.value = downloaded;\n",
              "          }\n",
              "        }\n",
              "      }\n",
              "      const blob = new Blob(buffers, {type: 'application/binary'});\n",
              "      const a = document.createElement('a');\n",
              "      a.href = window.URL.createObjectURL(blob);\n",
              "      a.download = filename;\n",
              "      div.appendChild(a);\n",
              "      a.click();\n",
              "      div.remove();\n",
              "    }\n",
              "  "
            ]
          },
          "metadata": {}
        },
        {
          "output_type": "display_data",
          "data": {
            "text/plain": [
              "<IPython.core.display.Javascript object>"
            ],
            "application/javascript": [
              "download(\"download_10943eeb-dc1e-4412-8a05-c56223062bd2\", \"fake_B.zip\", 832523821)"
            ]
          },
          "metadata": {}
        }
      ],
      "source": [
        "from google.colab import files\n",
        "\n",
        "# download the file\n",
        "files.download('/content/drive/MyDrive/CCI_modular/TERM_03/kitchen_frames/kitchen_v3/kitchen_02/test_latest/images/fake_B.zip')"
      ]
    }
  ],
  "metadata": {
    "accelerator": "GPU",
    "colab": {
      "machine_shape": "hm",
      "provenance": []
    },
    "kernelspec": {
      "display_name": "Python 3",
      "name": "python3"
    }
  },
  "nbformat": 4,
  "nbformat_minor": 0
}